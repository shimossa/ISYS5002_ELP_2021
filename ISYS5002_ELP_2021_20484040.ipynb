{
  "nbformat": 4,
  "nbformat_minor": 0,
  "metadata": {
    "colab": {
      "name": "ISYS5002_ELP_2021_20484040.ipynb",
      "provenance": [],
      "collapsed_sections": [],
      "authorship_tag": "ABX9TyNUusW/HeFmL3T1h0gPx0wF",
      "include_colab_link": true
    },
    "kernelspec": {
      "name": "python3",
      "display_name": "Python 3"
    },
    "language_info": {
      "name": "python"
    }
  },
  "cells": [
    {
      "cell_type": "markdown",
      "metadata": {
        "id": "view-in-github",
        "colab_type": "text"
      },
      "source": [
        "<a href=\"https://colab.research.google.com/github/shimossa/ISYS5002_ELP_2021/blob/main/ISYS5002_ELP_2021_20484040.ipynb\" target=\"_parent\"><img src=\"https://colab.research.google.com/assets/colab-badge.svg\" alt=\"Open In Colab\"/></a>"
      ]
    },
    {
      "cell_type": "markdown",
      "metadata": {
        "id": "EeacDCflB9y-"
      },
      "source": [
        "##ELP Question Two"
      ]
    },
    {
      "cell_type": "code",
      "metadata": {
        "id": "c0b-IlzDBouf"
      },
      "source": [
        "def get_url(search_term, template): # A function that passes through the search_term and template arguments\n",
        " search_term = search_term.replace(' ', '+') # Defines the variable search_term where the blanks are replaced with a +\n",
        " url = template.format(search_term) # formats the url with the parameters defined in search_term\n",
        " url += '&page={}' # adds '&page={}' to the end of the url\n",
        " return url # stores the url generated in the function to be called"
      ],
      "execution_count": null,
      "outputs": []
    },
    {
      "cell_type": "markdown",
      "metadata": {
        "id": "7El6VR15OI5v"
      },
      "source": [
        "##ELP Question Three\n",
        "\n",
        "\"Calculate a car’s fuel economy after\n",
        "reading in the distance travelled and amount of petrol used.\" \n",
        "\n",
        "\n",
        "The fuel economy is\n",
        "calculated by the following formula:\n",
        "\n",
        "*kmPerLitre = kilometers / litres.*\n",
        "\n",
        "#Original Code\n",
        "```\n",
        "def efficiency(dist, gas)\n",
        " return dist/gas\n",
        "\n",
        "km = input (\"How far did your car travel? (In kilometers?) )\n",
        "liters = input (\"How much gas did you use? (In liters)\"\n",
        "MPG = efficiency(dist_traveled, Liters)\n",
        "print MPG\n",
        "```"
      ]
    },
    {
      "cell_type": "code",
      "metadata": {
        "colab": {
          "base_uri": "https://localhost:8080/"
        },
        "id": "3jkqgpomONkx",
        "outputId": "3bff7372-02e6-4c26-fea2-7ee76a4e6b87"
      },
      "source": [
        "def efficiency(dist_traveled, fuel): #Added a colon to define the function (Syntax Error)\n",
        " return dist_traveled/fuel #Fixed logic errors by making varieables consistent\n",
        "\n",
        "dist_traveled = int(input(\"How far did your car travel? (In kilometers?) \")) #Closed the quotation (Syntax Error), changed variable name (Logic)\n",
        "fuel = int(input(\"How much fuel did you use? (In liters) \")) #Closed the quotation (Syntax Error), changed variable name (Logic)\n",
        "kpl = efficiency(dist_traveled, fuel) #Changed variable name for consistency (Km/L) and fixed the variables (logic errors)\n",
        "print(\"Your fuel economy was \" + str(kpl) + \"Km/L\") #Fixed syntax error and enhanced the display of the output\n"
      ],
      "execution_count": 16,
      "outputs": [
        {
          "output_type": "stream",
          "name": "stdout",
          "text": [
            "How far did your car travel? (In kilometers?) 100\n",
            "How much fuel did you use? (In liters) 2\n",
            "Your fuel economy was 50.0Km/L\n"
          ]
        }
      ]
    },
    {
      "cell_type": "markdown",
      "metadata": {
        "id": "-jHaXfmDVsP9"
      },
      "source": [
        "##ELP Question Three\n",
        "\n",
        "*Write a program the reads in sales.csv and calculates the maximum, minimum and average\n",
        "profit for each country in the Australia and Oceania region. For each country in the\n",
        "Australia and Oceania region the plot their total profit*\n",
        "\n",
        "**Problem Statement**\n",
        "\"Calculate the Max, Min, Ave for the Ocenania region and plot the total profit of the countries in that region\"\n",
        "\n",
        "**Development**\n",
        "1.   Input: CSV file\n",
        "2.   Output: min, max, average and total on a table, plot of the totals\n",
        "3. Processing: pandas\n",
        "\n",
        "**Algorithm**\n",
        "1. read the csv file\n",
        "2. copy the table \n",
        "3. fix NaN data / clean the data\n",
        "4. filter the OCE/AUS countries\n",
        "5. for the OCE/AUS countries find the min, max and average profit\n",
        "6. Display the new data on a table and save it \n",
        "7. plot the total profit for those countries in that region \n",
        "\n",
        "\n",
        "\n",
        "\n",
        "\n"
      ]
    },
    {
      "cell_type": "code",
      "metadata": {
        "id": "1FFY9d6iVrw5"
      },
      "source": [
        "# import libraries \n",
        "import pandas as pd\n",
        "import csv \n",
        "import numpy as np\n",
        "import matplotlib.pyplot as plt"
      ],
      "execution_count": 17,
      "outputs": []
    },
    {
      "cell_type": "code",
      "metadata": {
        "id": "m-EH3C8eoEhy"
      },
      "source": [
        "#read the csv file \n",
        "\n",
        "df = pd.read_csv('sales.csv')"
      ],
      "execution_count": 18,
      "outputs": []
    },
    {
      "cell_type": "code",
      "metadata": {
        "id": "wNTf-D6JbKeB"
      },
      "source": [
        ""
      ],
      "execution_count": null,
      "outputs": []
    }
  ]
}