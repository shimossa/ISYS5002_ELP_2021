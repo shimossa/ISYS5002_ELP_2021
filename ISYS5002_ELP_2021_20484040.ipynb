{
  "nbformat": 4,
  "nbformat_minor": 0,
  "metadata": {
    "colab": {
      "name": "ISYS5002_ELP_2021_20484040.ipynb",
      "provenance": [],
      "collapsed_sections": [],
      "authorship_tag": "ABX9TyPtSdjpEcXOgQCVZWu6qssI",
      "include_colab_link": true
    },
    "kernelspec": {
      "name": "python3",
      "display_name": "Python 3"
    },
    "language_info": {
      "name": "python"
    }
  },
  "cells": [
    {
      "cell_type": "markdown",
      "metadata": {
        "id": "view-in-github",
        "colab_type": "text"
      },
      "source": [
        "<a href=\"https://colab.research.google.com/github/shimossa/ISYS5002_ELP_2021/blob/main/ISYS5002_ELP_2021_20484040.ipynb\" target=\"_parent\"><img src=\"https://colab.research.google.com/assets/colab-badge.svg\" alt=\"Open In Colab\"/></a>"
      ]
    },
    {
      "cell_type": "markdown",
      "metadata": {
        "id": "EeacDCflB9y-"
      },
      "source": [
        "##ELP Question Two"
      ]
    },
    {
      "cell_type": "code",
      "metadata": {
        "id": "c0b-IlzDBouf"
      },
      "source": [
        "def get_url(search_term, template): # A function that passes through the search_term and template arguments\n",
        " search_term = search_term.replace(' ', '+') # Defines the variable search_term where the blanks are replaced with a +\n",
        " url = template.format(search_term) # formats the url with the parameters defined in search_term\n",
        " url += '&page={}' # adds '&page={}' to the end of the url\n",
        " return url # stores the url generated in the function to be called"
      ],
      "execution_count": null,
      "outputs": []
    },
    {
      "cell_type": "markdown",
      "metadata": {
        "id": "7El6VR15OI5v"
      },
      "source": [
        "##ELP Question Three\n",
        "\n",
        "\"Calculate a car’s fuel economy after\n",
        "reading in the distance travelled and amount of petrol used.\" \n",
        "\n",
        "\n",
        "The fuel economy is\n",
        "calculated by the following formula:\n",
        "\n",
        "*kmPerLitre = kilometers / litres.*\n",
        "\n",
        "#Original Code\n",
        "```\n",
        "def efficiency(dist, gas)\n",
        " return dist/gas\n",
        "\n",
        "km = input (\"How far did your car travel? (In kilometers?) )\n",
        "liters = input (\"How much gas did you use? (In liters)\"\n",
        "MPG = efficiency(dist_traveled, Liters)\n",
        "print MPG\n",
        "```"
      ]
    },
    {
      "cell_type": "code",
      "metadata": {
        "colab": {
          "base_uri": "https://localhost:8080/"
        },
        "id": "3jkqgpomONkx",
        "outputId": "fa17f011-ce23-4a5d-e116-7f1f33eedf7f"
      },
      "source": [
        "def efficiency(dist_traveled, fuel): #Added a colon to define the function (Syntax Error)\n",
        " return dist_traveled/fuel #Fixed logic errors by making varieables consistent\n",
        "\n",
        "dist_traveled = int(input(\"How far did your car travel? (In kilometers?) \")) #Closed the quotation (Syntax Error), changed variable name (Logic)\n",
        "fuel = int(input(\"How much fuel did you use? (In liters) \")) #Closed the quotation (Syntax Error), changed variable name (Logic)\n",
        "kpl = efficiency(dist_traveled, fuel) #Changed variable name for consistency (Km/L) and fixed the variables (logic errors)\n",
        "print(\"Your fuel economy was \" + str(kpl) + \"Km/L\") #Fixed syntax error and enhanced the display of the output\n"
      ],
      "execution_count": 4,
      "outputs": [
        {
          "output_type": "stream",
          "name": "stdout",
          "text": [
            "How far did your car travel? (In kilometers?) 56\n",
            "How much fuel did you use? (In liters) 23\n",
            "Your fuel economy was 2.4347826086956523Km/L\n"
          ]
        }
      ]
    },
    {
      "cell_type": "markdown",
      "metadata": {
        "id": "-jHaXfmDVsP9"
      },
      "source": [
        "##ELP Question Three\n",
        "\n",
        "*Write a program the reads in sales.csv and calculates the maximum, minimum and average\n",
        "profit for each country in the Australia and Oceania region. For each country in the\n",
        "Australia and Oceania region the plot their total profit*\n",
        "\n",
        "**Problem Statement**\n",
        "\"Calculate the Max, Min, Ave for the Ocenania region and plot the total profit of the countries in that region\"\n",
        "\n",
        "**Development**\n",
        "1.   Input: CSV file\n",
        "2.   Output: min, max, average and total on a table, plot of the totals\n",
        "3. Processing: pandas\n",
        "\n",
        "**Algorithm**\n",
        "1. read the csv file\n",
        "2. copy the table \n",
        "3. fix NaN data / clean the data\n",
        "4. filter the OCE/AUS countries\n",
        "5. for the OCE/AUS countries find the min, max and average profit\n",
        "6. Display the new data on a table and save it \n",
        "7. plot the total profit for those countries in that region \n",
        "\n",
        "\n",
        "\n",
        "\n",
        "\n"
      ]
    },
    {
      "cell_type": "markdown",
      "metadata": {
        "id": "m0r9cBkvKW6M"
      },
      "source": [
        "#Issues Encountered and Resolution\n",
        "\n",
        "##Min, Max and Mean\n",
        "\n",
        "Finding a way to retreive the min, max and average of the data.\n",
        "As the program will run off a csv file, it's better for the program to be adaptable in that it will be able to do this for all the CSV files that the user creates (provided they're the same format).\n",
        "\n",
        "While using :\n",
        "\n",
        "```\n",
        "column = oce_df[\"Total Profit\"]\n",
        "max_value = column.max()\n",
        "min_value = column.min()\n",
        "ave_value = column.mean()\n",
        "\n",
        "\n",
        "print(max_value)\n",
        "print(min_value)\n",
        "print(ave_value)\n",
        "```\n",
        "was a simple way to retreive the data, it was difficult to actually provide the country name along with it. \n",
        "\n",
        "```\n",
        "max_country = oce_df.loc[oce_df['Total Profit'].idxmax()]\n",
        "min_country = oce_df.loc[oce_df['Total Profit'].idxmin()]\n",
        "\n",
        "print(max_country)\n",
        "print(min_country)\n",
        "```\n",
        "\n",
        "was another way that I tried to get the data however, it did not appear clean, and would be difficult to read by the user. and it still contained ```Name: 9, dtype: object``` in the result which  Idid not want.\n",
        "\n",
        "```\n",
        "pdmax = oce_df[oce_df[\"Total Profit\"]==oce_df[\"Total Profit\"].min()]\n",
        "pdmin = oce_df[oce_df[\"Total Profit\"]==oce_df[\"Total Profit\"].max()]\n",
        "\n",
        "print(pdmax)\n",
        "print(pdmin)\n",
        "```\n",
        "\n",
        "also resulted in issues where the data appeared as \n",
        "\n",
        "```\n",
        "       Country Item Type Sales Channel  ... Total Revenue Total Cost  Total Profit\n",
        "3  New Zealand    Fruits        Online  ...      20404.71   15134.04       5270.67\n",
        "\n",
        "[1 rows x 13 columns]\n",
        "  Country  Item Type Sales Channel  ... Total Revenue  Total Cost  Total Profit\n",
        "9  Samoa   Cosmetics        Online  ...     4220728.8  2542187.82    1678540.98\n",
        "\n",
        "[1 rows x 13 columns]\n",
        "```\n",
        "\n",
        "#Min, Max, Mean Resolution\n",
        "\n",
        "The resolution I devised involved using iloc, however with specific points in a remade csv file. I arranged the OCE/AUS filtered table by profit, and then saved that as a seperate CSV file. Using this new csv file ('sales_fixed.csv\") I was there able to use iloc to retrieve the first and last (i.e. min and max) and then find the mean using a simple .mean() command. \n",
        "\n",
        "```\n",
        "max_prof = dff.iloc[0,0]\n",
        "max_country = dff.iloc[0,1]\n",
        "min_prof = dff.iloc[10,0]\n",
        "min_country = dff.iloc[10,1]\n",
        "mean_prof = round(dff[\"Total Profit\"].mean(),2)\n",
        "\n",
        "print(max_country + str(max_prof))\n",
        "print(min_country + str(min_prof))\n",
        "print(\"The average for the total profit for the region is \" + str(mean_prof))\n",
        "```\n",
        "I did attempt to use .head() and .tail() however they also displayed the following which was unusable in the way I had intended to use the data.\n",
        "\n",
        "```\n",
        "your max value is0    1678540.98\n",
        "Name: Total Profit, dtype: float64\n",
        "10    5270.67\n",
        "Name: Total Profit, dtype: float64\n",
        "```\n",
        "\n",
        "#Bar Plot Problem and Resolution\n",
        "\n",
        "The question does not outline specifically what sort of plot is to be used, however I felt that using a bar chart would be most appropriate. That being said, uplon attempting create a bar chart a plethora of issues arose.\n",
        "\n",
        "Firstly, the dataset used has three instances of Australia. Normally this wouldnt be an issues since the question is merely asking for total revenue, however, since the context of the question isn't clear, I assumed that the dates and orders in which the revenue was made held importance to the overall table. I did attempt to add the \"Australia\" data together using groupby functions\n",
        "\n",
        "```\n",
        "Total Revenue\tTotal Cost\n",
        "Total Profit\tCountry\t\t\n",
        "5270.67\tNew Zealand\t20404.71\t15134.04\n",
        "13009.18\tKiribati\t50363.34\t37354.16\n",
        "60418.38\tAustralia\t140287.40\t79869.02\n",
        "146875.14\tFederated States of Micronesia\t445033.55\t298158.41\n",
        "147031.74\tAustralia\t445508.05\t298476.31\n",
        "285087.64\tSolomon Islands\t759202.72\t474115.08\n",
        "337937.60\tEast Timor\t2492526.12\t2154588.52\n",
        "369155.00\tAustralia\t1904138.04\t1534983.04\n",
        "727423.20\tFiji\t1082418.40\t354995.20\n",
        "951410.50\tTuvalu\t2533654.00\t1582243.50\n",
        "1678540.98\tSamoa\t4220728.80\t2542187.82\n",
        "```\n",
        "(This is after I trialed this function using a table that dropped the following columns) \n",
        "```\n",
        "oce_df.drop(['Region', 'Item Type', 'Sales Channel', 'Order Priority', 'Order Date', 'Order ID', 'Ship Date', 'Units Sold', 'Unit Price', 'Unit Cost'], axis=1, inplace=True)\n",
        "```\n",
        "\n",
        "\n",
        "However this was usually the result. This would not have affected the final results for the min/ max, but perhaps the average.\n",
        "\n",
        "That being said, attempting to plot the data on a bar graph also led to issues. Firstly, the text of the countries overlapped eachother and was unreadable and thus using this command;\n",
        "\n",
        "```\n",
        "fig, ax = plt.subplots()\n",
        "ax.bar(dff[\"Country\"], dff[\"Total Profit\"])\n",
        "plt.setp(ax.get_xticklabels(), rotation=30, horizontalalignment='right')\n",
        "plt.show()\n",
        "```\n",
        "\n",
        "Only plotted the top 9 in the list, ommitting the rest, to which I could not find a fix for. Therefore, the next best option for the plot was a scatter plot, as it would 'accurately' display the total amount on the graph.\n",
        "\n",
        "Finally with the scatter plot saving the image has run into some issues where the saved image will be cut off unless saved directly from the notebook. Attempting to fix this issue with ```plt.figure(figsize=(8, 8), dpi=80)``` results in a blank image."
      ]
    },
    {
      "cell_type": "code",
      "metadata": {
        "id": "1FFY9d6iVrw5"
      },
      "source": [
        "# import libraries \n",
        "import pandas as pd\n",
        "import csv \n",
        "import numpy as np\n",
        "import matplotlib.pyplot as plt"
      ],
      "execution_count": 1,
      "outputs": []
    },
    {
      "cell_type": "code",
      "metadata": {
        "id": "m-EH3C8eoEhy"
      },
      "source": [
        "#read the csv file \n",
        "df = pd.read_csv('sales.csv')\n",
        "df"
      ],
      "execution_count": null,
      "outputs": []
    },
    {
      "cell_type": "code",
      "metadata": {
        "id": "wNTf-D6JbKeB"
      },
      "source": [
        "#filter to the OCE/AUS region\n",
        "oce_df = df.loc[df['Region'] == 'Australia and Oceania']\n",
        "\n",
        "#Reset the index to clean the data and drop the old index\n",
        "oce_df = oce_df.reset_index(drop=True)\n",
        "\n",
        "oce_df"
      ],
      "execution_count": null,
      "outputs": []
    },
    {
      "cell_type": "code",
      "metadata": {
        "id": "kDK9T-RkAAXz"
      },
      "source": [
        "#Dropping a redundant column\n",
        "oce_df.drop(['Region'], axis=1, inplace=True)"
      ],
      "execution_count": 4,
      "outputs": []
    },
    {
      "cell_type": "code",
      "metadata": {
        "id": "Ix9_zWvdp0ZM"
      },
      "source": [
        "#Sorting data in a way to display it using groupby\n",
        "#This probably the best way to display information without compromising the data itself\n",
        "\n",
        "organised_data = oce_df.groupby([\"Total Profit\"]).max().sort_values('Total Profit', ascending=False)\n",
        "\n",
        "\n",
        "organised_data"
      ],
      "execution_count": null,
      "outputs": []
    },
    {
      "cell_type": "code",
      "metadata": {
        "id": "qfQDNOE_1arc"
      },
      "source": [
        " def data_filter(): \n",
        "  #filter to the OCE/AUS region\n",
        "  oce_df = df.loc[df['Region'] == 'Australia and Oceania']\n",
        "\n",
        "  #Reset the index to clean the data and drop the old index\n",
        "  oce_df = oce_df.reset_index(drop=True)\n",
        "\n",
        "  #Dropping a redundant column\n",
        "  oce_df.drop(['Region'], axis=1, inplace=True)\n",
        "\n",
        "  #Sorting data in a way to display it using groupby\n",
        "  #This probably the best way to display information without compromising the data itself\n",
        "\n",
        "  organised_data = oce_df.groupby([\"Total Profit\"]).max().sort_values('Total Profit', ascending=False)\n",
        "\n",
        "  organised_data.to_csv('sales_fixed.csv')"
      ],
      "execution_count": null,
      "outputs": []
    },
    {
      "cell_type": "code",
      "metadata": {
        "id": "k4sadtQyFGgE"
      },
      "source": [
        "organised_data.to_csv('sales_fixed.csv')"
      ],
      "execution_count": 93,
      "outputs": []
    },
    {
      "cell_type": "code",
      "metadata": {
        "id": "lKD1nAPhGvEb"
      },
      "source": [
        "dff = pd.read_csv('sales_fixed.csv')"
      ],
      "execution_count": 4,
      "outputs": []
    },
    {
      "cell_type": "code",
      "metadata": {
        "colab": {
          "base_uri": "https://localhost:8080/"
        },
        "id": "vp5RXQYJIZ_X",
        "outputId": "a51b69f0-3202-4859-9f6c-07e711c9ad8b"
      },
      "source": [
        "#Using iloc to find the data for max and min profit\n",
        "#Integer based method is easier to locate the data \n",
        "\n",
        "max_prof = dff.iloc[0,0]\n",
        "max_country = dff.iloc[0,1]\n",
        "min_prof = dff.iloc[10,0]\n",
        "min_country = dff.iloc[10,1]\n",
        "mean_prof = round(dff[\"Total Profit\"].mean(),2)\n",
        "\n",
        "print(max_country + str(max_prof))\n",
        "print(min_country + str(min_prof))\n",
        "print(\"The average for the total profit for the region is \" + str(mean_prof))"
      ],
      "execution_count": 8,
      "outputs": [
        {
          "output_type": "stream",
          "name": "stdout",
          "text": [
            "Samoa 1678540.98\n",
            "New Zealand5270.67\n",
            "The average for the total profit for the region is 429287.28\n"
          ]
        }
      ]
    },
    {
      "cell_type": "code",
      "metadata": {
        "id": "nI-ttPC219ae"
      },
      "source": [
        " def min_max_mean(): \n",
        "  #Reads the new CSV file\n",
        "  dff = pd.read_csv('sales_fixed.csv')\n",
        "  \n",
        "  #allocates where in the file to find the min, max, mean and the associated country\n",
        "  max_prof = dff.iloc[0,0]\n",
        "  max_country = dff.iloc[0,1]\n",
        "  min_prof = dff.iloc[10,0]\n",
        "  min_country = dff.iloc[10,1]\n",
        "  mean_prof = round(dff[\"Total Profit\"].mean(),2)\n",
        "\n",
        "  #Prints the located data\n",
        "  print(max_country + str(max_prof))\n",
        "  print(min_country + str(min_prof))\n",
        "  print(\"The average for the total profit for the region is \" + str(mean_prof))\n"
      ],
      "execution_count": null,
      "outputs": []
    },
    {
      "cell_type": "code",
      "metadata": {
        "id": "SEmT8XxkSEue"
      },
      "source": [
        "fig, ax = plt.subplots()\n",
        "plt.scatter(dff[\"Country\"], dff[\"Total Profit\"])\n",
        "plt.setp(ax.get_xticklabels(), rotation=30, horizontalalignment='right') #fixes the issue of the overlaps in the xaxis\n",
        "plt.figure(figsize=(10, 10), dpi=100)\n",
        "ax.set_xlabel(\"Countries\")\n",
        "ax.set_ylabel(\"Total Profit (Millions)\")\n",
        "ax.set_title(\"Total Profit\")\n",
        "plt.show()"
      ],
      "execution_count": null,
      "outputs": []
    },
    {
      "cell_type": "code",
      "metadata": {
        "id": "MeNv8BBMAhq5"
      },
      "source": [
        "def plot_totals():\n",
        "  fig, ax = plt.subplots()\n",
        "  plt.scatter(dff[\"Country\"], dff[\"Total Profit\"])\n",
        "  plt.setp(ax.get_xticklabels(), rotation=30, horizontalalignment='right')\n",
        "  plt.figure(figsize=(10, 10), dpi=100)\n",
        "  ax.set_xlabel(\"Countries\")\n",
        "  ax.set_ylabel(\"Total Profit (Millions)\")\n",
        "  ax.set_title(\"Total Profit\")\n",
        "  plt.show()\n",
        "\n",
        "plot_totals()"
      ],
      "execution_count": null,
      "outputs": []
    },
    {
      "cell_type": "code",
      "metadata": {
        "id": "So9i-5zRN87U"
      },
      "source": [
        "#providing more user choice with the graph\n",
        "while True:\n",
        "  dff = pd.read_csv('sales_fixed.csv')\n",
        "  fig, ax = plt.subplots()\n",
        "  plt.scatter(dff[\"Country\"], dff[\"Total Profit\"])\n",
        "  plt.setp(ax.get_xticklabels(), rotation=30, horizontalalignment='right')\n",
        "  plt.figure(figsize=(8, 8), dpi=80)\n",
        "  ax.set_xlabel(\"Countries\")\n",
        "  ax.set_ylabel(\"Total Profit (Millions)\")\n",
        "  ax.set_title(\"Total Profit\")\n",
        "  save_graph = input(\"Would you like to save the graph? \")\n",
        "  if save_graph == \"yes\":\n",
        "    plt.savefig(\"OCE.pdf\")\n",
        "    plt.show()\n",
        "    break\n",
        "  else:\n",
        "      print(\"Please run the program again if you wish to save the data!\")\n",
        "      plt.show()"
      ],
      "execution_count": null,
      "outputs": []
    },
    {
      "cell_type": "code",
      "metadata": {
        "id": "y6W0TcgEUxw6"
      },
      "source": [
        "#Final Program\n",
        "\n",
        "# import libraries \n",
        "import pandas as pd\n",
        "import csv \n",
        "import numpy as np\n",
        "import matplotlib.pyplot as plt\n",
        "\n",
        "#Read the csv file and filter the data \n",
        "def data_filter(): \n",
        "  #filter to the OCE/AUS region\n",
        "  df = pd.read_csv('sales.csv') \n",
        "  while True:\n",
        "    region_select = input(\"Which region would you like review? \")\n",
        "    if region_select == 'OCE':\n",
        "      oce_df = df.loc[df['Region'] == 'Australia and Oceania']\n",
        "      #Reset the index to clean the data and drop the old index\n",
        "      oce_df = oce_df.reset_index(drop=True)\n",
        "\n",
        "      #Dropping a redundant column\n",
        "      oce_df.drop(['Region'], axis=1, inplace=True)\n",
        "\n",
        "      #Sorting data in a way to display it using groupby\n",
        "      #This probably the best way to display information without compromising the data itself\n",
        "      organised_data = oce_df.groupby([\"Total Profit\"]).max().sort_values('Total Profit', ascending=False)\n",
        "\n",
        "      organised_data.to_csv('sales_fixed.csv') #saves filtered data in another csv file to be used by the other functions\n",
        "      break\n",
        "    else:\n",
        "      print(\"Sorry, we're still updating our program to support other regions!\") #input validation / error check\n",
        "\n",
        "#Calculate the min, max, and mean\n",
        "def min_max_mean(): \n",
        "  #Reads the new CSV file\n",
        "  dff = pd.read_csv('sales_fixed.csv')\n",
        "  \n",
        "  #allocates where in the file to find the min, max, mean and the associated country\n",
        "  max_prof = dff.iloc[0,0]\n",
        "  max_country = dff.iloc[0,1]\n",
        "  min_prof = dff.iloc[10,0]\n",
        "  min_country = dff.iloc[10,1]\n",
        "  mean_prof = round(dff[\"Total Profit\"].mean(),2)\n",
        "\n",
        "  #Prints the located data\n",
        "  print('------------------------------')\n",
        "  print('-'*30)\n",
        "  print(\"The highest earning country in the region is \" + max_country + \" with \" + str(max_prof) + \" dollars.\")\n",
        "  print(\"The lowest earning country in the region is \" + min_country + \" with \" + str(min_prof) + \" dollars.\")\n",
        "  print(\"The average total profit for the region is \" + str(mean_prof) + \" dollars.\")\n",
        "  print('------------------------------')\n",
        "  print('-'*30)\n",
        "\n",
        "\n",
        "def plot_totals(dff):\n",
        "  while True:\n",
        "    dff = pd.read_csv('sales_fixed.csv')\n",
        "    fig, ax = plt.subplots()\n",
        "    plt.scatter(dff[\"Country\"], dff[\"Total Profit\"])\n",
        "    plt.setp(ax.get_xticklabels(), rotation=30, horizontalalignment='right') #Attempts to fix the overlap of the x-axis\n",
        "    ax.set_xlabel(\"Countries\") #Sets the title of the plot\n",
        "    ax.set_ylabel(\"Total Profit (Millions)\") #Sets the title of y-axis\n",
        "    ax.set_title(\"Total Profit\") #Sets the title of the x-axis\n",
        "    save_graph = input(\"Would you like to save the graph? \") #provides the option for the user to save the image prior to plotting\n",
        "    if save_graph == \"yes\":\n",
        "      file_type = input(\"...as a png or pdf? \") #provides the option to choose the file type\n",
        "      if file_type == \"png\":\n",
        "        plt.savefig(\"OCE.png\")\n",
        "        plt.show()\n",
        "        break\n",
        "      elif file_type == \"pdf\":\n",
        "        plt.savefig(\"OCE.pdf\")\n",
        "        plt.show()\n",
        "        break\n",
        "      else:\n",
        "        Print(\"Sorry that type is currently unsupported, please choose png or pdf\") #input validation/ error check\n",
        "    else:\n",
        "        print(\"Please run the program again if you wish to save the data!\") #input validation / error check\n",
        "        plt.show()\n",
        "        break\n",
        "\n",
        "data_filter()\n",
        "dff = min_max_mean()\n",
        "plot_totals(dff)"
      ],
      "execution_count": null,
      "outputs": []
    }
  ]
}